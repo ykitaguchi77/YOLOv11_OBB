{
 "cells": [
  {
   "cell_type": "markdown",
   "metadata": {},
   "source": [
    "# **Inference_yolo_OBB_to_cvat**"
   ]
  },
  {
   "cell_type": "code",
   "execution_count": 16,
   "metadata": {},
   "outputs": [],
   "source": [
    "model_path = r\"C:\\Users\\CorneAI\\YOLOv11_OBB\\models\\yolo11n_obb_1-295_1to139.pt\"\n",
    "\n",
    "# すでにアノーテーションされているラベルは変えずに、その次の画像から推論を行う\n",
    "# CVATの仕様上、2より12や134が優先されることに留意\n",
    "start_id = 501 #まだinferenceされていない最初のID (xmlから確認)\n",
    "end_id = 1000 #Inferenceしたい最後のID（xmlから確認）\n",
    "\n",
    "# すでにアノーテーションされているxmlファイルのパス\n",
    "orig_xml_path = r\"C:\\Users\\CorneAI\\YOLOv11_OBB\\eyelid_image\\1-295_periocular\\1-295obb_1to139_cvat.xml\"\n",
    "\n",
    "# 推論を行ったxmlファイルのパス（すでに行われているアノーテーションは変えない）\n",
    "output_xml_path = r\"C:\\Users\\CorneAI\\YOLOv11_OBB\\eyelid_image\\1-295_periocular\\1-295obb_139to160_cvat.xml\"\n",
    "output_temp_label_dir = r\"C:\\Users\\CorneAI\\YOLOv11_OBB\\eyelid_image\\1-295_periocular\\temp_labels\""
   ]
  },
  {
   "cell_type": "code",
   "execution_count": null,
   "metadata": {},
   "outputs": [
    {
     "name": "stdout",
     "output_type": "stream",
     "text": [
      "XMLファイルから 4467 個の画像パスを読み込みました。\n",
      "最初の5件: ['1-20141126-38-091804_eb568e2ac952f8be45ec0ac9ae800120b7c988b60ac499ca87306986d218f554_L.jpg', '1-20141126-38-091804_eb568e2ac952f8be45ec0ac9ae800120b7c988b60ac499ca87306986d218f554_R.jpg', '1-20150121-38-142903_6e60b2355e174936406b708cf171e424300de779d4b8ae8e3aebb1a9de9905e6_L.jpg', '1-20150121-38-142903_6e60b2355e174936406b708cf171e424300de779d4b8ae8e3aebb1a9de9905e6_R.jpg', '1-20150121-38-142903_f27c8cf98eef934c557ffb70fed94b3fb9d400f29f472f2687b7fcec96e92c77_L.jpg']\n"
     ]
    }
   ],
   "source": [
    "import xml.etree.ElementTree as ET\n",
    "import os\n",
    "\n",
    "image_paths = []\n",
    "try:\n",
    "    # XMLファイルを解析\n",
    "    tree = ET.parse(orig_xml_path)\n",
    "    root = tree.getroot()\n",
    "\n",
    "    # <image> タグをすべて検索\n",
    "    for image_tag in root.findall('image'):\n",
    "        # 'name' 属性（通常、画像ファイルパスまたは名前を含む）を取得\n",
    "        name = image_tag.get('name')\n",
    "        if name:\n",
    "            # ここではXML内のパスをそのままリストに追加します。\n",
    "            # 必要に応じて、ベースディレクトリと結合して絶対パスにしてください。\n",
    "            # 例: base_image_dir = os.path.dirname(orig_xml_path) # または適切な画像ディレクトリ\n",
    "            #    full_path = os.path.join(base_image_dir, name)\n",
    "            #    image_paths.append(full_path)\n",
    "            image_paths.append(name)\n",
    "        else:\n",
    "            print(f\"警告: ID {image_tag.get('id')} の画像タグに 'name' 属性が見つかりません。\")\n",
    "\n",
    "    print(f\"XMLファイルから {len(image_paths)} 個の画像パスを読み込みました。\")\n",
    "    #print(\"最初の5件:\", image_paths[:5]) # 確認用\n",
    "\n",
    "except FileNotFoundError:\n",
    "    print(f\"エラー: XMLファイルが見つかりません: {orig_xml_path}\")\n",
    "except ET.ParseError:\n",
    "    print(f\"エラー: XMLファイルの解析に失敗しました: {orig_xml_path}\")\n",
    "except Exception as e:\n",
    "    print(f\"予期せぬエラーが発生しました: {e}\")\n",
    "\n",
    "# image_paths リストが作成されました。\n",
    "# このリストは、XMLファイルに記載されている順序での画像パス（または名前）を含みます。\n"
   ]
  }
 ],
 "metadata": {
  "kernelspec": {
   "display_name": ".venv",
   "language": "python",
   "name": "python3"
  },
  "language_info": {
   "codemirror_mode": {
    "name": "ipython",
    "version": 3
   },
   "file_extension": ".py",
   "mimetype": "text/x-python",
   "name": "python",
   "nbconvert_exporter": "python",
   "pygments_lexer": "ipython3",
   "version": "3.10.5"
  }
 },
 "nbformat": 4,
 "nbformat_minor": 2
}
